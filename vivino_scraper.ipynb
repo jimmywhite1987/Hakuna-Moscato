{
 "cells": [
  {
   "cell_type": "code",
   "execution_count": 1,
   "metadata": {},
   "outputs": [],
   "source": [
    "# Import BeautifulSoup\n",
    "from bs4 import BeautifulSoup\n",
    "from splinter import Browser\n",
    "from webdriver_manager.chrome import ChromeDriverManager\n",
    "import requests\n",
    "import pymongo\n",
    "import pandas as pd"
   ]
  },
  {
   "cell_type": "code",
   "execution_count": 2,
   "metadata": {
    "scrolled": true
   },
   "outputs": [
    {
     "name": "stderr",
     "output_type": "stream",
     "text": [
      "\n",
      "\n",
      "====== WebDriver manager ======\n",
      "Current google-chrome version is 91.0.4472\n",
      "Get LATEST driver version for 91.0.4472\n",
      "Driver [/Users/jameswhite/.wdm/drivers/chromedriver/mac64/91.0.4472.19/chromedriver] found in cache\n"
     ]
    }
   ],
   "source": [
    "executable_path = {'executable_path': ChromeDriverManager().install()}\n",
    "browser = Browser('chrome', **executable_path, headless=False)"
   ]
  },
  {
   "cell_type": "code",
   "execution_count": 3,
   "metadata": {},
   "outputs": [],
   "source": [
    "austin_hope_vivino_url = \"https://www.vivino.com/austin-hope-cabernet-sauvignon-paso-robles/w/5866389?year=2019&price_id=23487730\"\n",
    "browser.visit(austin_hope_vivino_url)"
   ]
  },
  {
   "cell_type": "code",
   "execution_count": 4,
   "metadata": {},
   "outputs": [
    {
     "name": "stdout",
     "output_type": "stream",
     "text": [
      "Austin Hope Cabernet Sauvignon 4.5 $39.99 2041 ratings Paso Robles\n"
     ]
    }
   ],
   "source": [
    "winery = browser.find_by_css('a.winery').text\n",
    "name = browser.find_by_css('a.wine').text\n",
    "rating = browser.find_by_css('div.vivinoRating__averageValue--3Navj').text\n",
    "num_reviews = browser.find_by_css('div.vivinoRating__caption--3tZeS').text\n",
    "price = browser.find_by_css('span.purchaseAvailability__currentPrice--3mO4u').text\n",
    "region = browser.find_by_css('a.wineLocationHeader__region--1cbip').text\n",
    "\n",
    "print(winery, name, rating, price, num_reviews, region)"
   ]
  },
  {
   "cell_type": "code",
   "execution_count": null,
   "metadata": {},
   "outputs": [],
   "source": []
  },
  {
   "cell_type": "code",
   "execution_count": 5,
   "metadata": {},
   "outputs": [
    {
     "name": "stderr",
     "output_type": "stream",
     "text": [
      "\n",
      "\n",
      "====== WebDriver manager ======\n",
      "Current google-chrome version is 91.0.4472\n",
      "Get LATEST driver version for 91.0.4472\n",
      "Driver [/Users/jameswhite/.wdm/drivers/chromedriver/mac64/91.0.4472.19/chromedriver] found in cache\n"
     ]
    }
   ],
   "source": [
    "executable_path = {'executable_path': ChromeDriverManager().install()}\n",
    "browser = Browser('chrome', **executable_path, headless=False)"
   ]
  },
  {
   "cell_type": "code",
   "execution_count": 6,
   "metadata": {},
   "outputs": [],
   "source": [
    "vivino_url = \"https://www.vivino.com/explore?e=eJzLLbI1VMvNzLM1UMtNrLA1NTBQS660DQ1WSwYSLmoFQNn0NNuyxKLM1JLEHLX8JFu1fFu18pLoWKBMsW1eMgCV1BRs\"\n",
    "browser.visit(vivino_url)"
   ]
  },
  {
   "cell_type": "code",
   "execution_count": 45,
   "metadata": {},
   "outputs": [
    {
     "ename": "ElementDoesNotExist",
     "evalue": "no elements could be found with xpath \"div[@class=\"bottleShot__deferred-type1--2juLX.bottleShot__bottleShot--1RUr4.cleanWineCard__bottleShot--2BzIZ.bottleShot__small--2ra9k\"]\"",
     "output_type": "error",
     "traceback": [
      "\u001b[0;31m---------------------------------------------------------------------------\u001b[0m",
      "\u001b[0;31mIndexError\u001b[0m                                Traceback (most recent call last)",
      "\u001b[0;32m~/opt/anaconda3/envs/TensorFlow/lib/python3.8/site-packages/splinter/element_list.py\u001b[0m in \u001b[0;36m__getitem__\u001b[0;34m(self, index)\u001b[0m\n\u001b[1;32m     41\u001b[0m         \u001b[0;32mtry\u001b[0m\u001b[0;34m:\u001b[0m\u001b[0;34m\u001b[0m\u001b[0;34m\u001b[0m\u001b[0m\n\u001b[0;32m---> 42\u001b[0;31m             \u001b[0;32mreturn\u001b[0m \u001b[0mself\u001b[0m\u001b[0;34m.\u001b[0m\u001b[0m_container\u001b[0m\u001b[0;34m[\u001b[0m\u001b[0mindex\u001b[0m\u001b[0;34m]\u001b[0m\u001b[0;34m\u001b[0m\u001b[0;34m\u001b[0m\u001b[0m\n\u001b[0m\u001b[1;32m     43\u001b[0m         \u001b[0;32mexcept\u001b[0m \u001b[0mIndexError\u001b[0m\u001b[0;34m:\u001b[0m\u001b[0;34m\u001b[0m\u001b[0;34m\u001b[0m\u001b[0m\n",
      "\u001b[0;31mIndexError\u001b[0m: list index out of range",
      "\nDuring handling of the above exception, another exception occurred:\n",
      "\u001b[0;31mElementDoesNotExist\u001b[0m                       Traceback (most recent call last)",
      "\u001b[0;32m<ipython-input-45-6a54141c50d1>\u001b[0m in \u001b[0;36m<module>\u001b[0;34m\u001b[0m\n\u001b[1;32m      8\u001b[0m \u001b[0;32mfor\u001b[0m \u001b[0mx\u001b[0m \u001b[0;32min\u001b[0m \u001b[0mrange\u001b[0m \u001b[0;34m(\u001b[0m\u001b[0;36m3\u001b[0m\u001b[0;34m)\u001b[0m\u001b[0;34m:\u001b[0m\u001b[0;34m\u001b[0m\u001b[0;34m\u001b[0m\u001b[0m\n\u001b[1;32m      9\u001b[0m     \u001b[0mresults\u001b[0m \u001b[0;34m=\u001b[0m \u001b[0mbrowser\u001b[0m\u001b[0;34m.\u001b[0m\u001b[0mfind_by_xpath\u001b[0m\u001b[0;34m(\u001b[0m\u001b[0mxpath\u001b[0m\u001b[0;34m)\u001b[0m\u001b[0;34m\u001b[0m\u001b[0;34m\u001b[0m\u001b[0m\n\u001b[0;32m---> 10\u001b[0;31m     \u001b[0mlink\u001b[0m \u001b[0;34m=\u001b[0m \u001b[0mresults\u001b[0m\u001b[0;34m[\u001b[0m\u001b[0mx\u001b[0m\u001b[0;34m]\u001b[0m\u001b[0;34m\u001b[0m\u001b[0;34m\u001b[0m\u001b[0m\n\u001b[0m\u001b[1;32m     11\u001b[0m     \u001b[0mlink\u001b[0m\u001b[0;34m.\u001b[0m\u001b[0mclick\u001b[0m\u001b[0;34m(\u001b[0m\u001b[0;34m)\u001b[0m\u001b[0;34m\u001b[0m\u001b[0;34m\u001b[0m\u001b[0m\n\u001b[1;32m     12\u001b[0m \u001b[0;31m#     winery = browser.find_by_css('a.winery').text\u001b[0m\u001b[0;34m\u001b[0m\u001b[0;34m\u001b[0m\u001b[0;34m\u001b[0m\u001b[0m\n",
      "\u001b[0;32m~/opt/anaconda3/envs/TensorFlow/lib/python3.8/site-packages/splinter/element_list.py\u001b[0m in \u001b[0;36m__getitem__\u001b[0;34m(self, index)\u001b[0m\n\u001b[1;32m     42\u001b[0m             \u001b[0;32mreturn\u001b[0m \u001b[0mself\u001b[0m\u001b[0;34m.\u001b[0m\u001b[0m_container\u001b[0m\u001b[0;34m[\u001b[0m\u001b[0mindex\u001b[0m\u001b[0;34m]\u001b[0m\u001b[0;34m\u001b[0m\u001b[0;34m\u001b[0m\u001b[0m\n\u001b[1;32m     43\u001b[0m         \u001b[0;32mexcept\u001b[0m \u001b[0mIndexError\u001b[0m\u001b[0;34m:\u001b[0m\u001b[0;34m\u001b[0m\u001b[0;34m\u001b[0m\u001b[0m\n\u001b[0;32m---> 44\u001b[0;31m             raise ElementDoesNotExist(\n\u001b[0m\u001b[1;32m     45\u001b[0m                 u'no elements could be found with {0} \"{1}\"'.format(\n\u001b[1;32m     46\u001b[0m                     \u001b[0mself\u001b[0m\u001b[0;34m.\u001b[0m\u001b[0mfind_by\u001b[0m\u001b[0;34m,\u001b[0m \u001b[0mself\u001b[0m\u001b[0;34m.\u001b[0m\u001b[0mquery\u001b[0m\u001b[0;34m\u001b[0m\u001b[0;34m\u001b[0m\u001b[0m\n",
      "\u001b[0;31mElementDoesNotExist\u001b[0m: no elements could be found with xpath \"div[@class=\"bottleShot__deferred-type1--2juLX.bottleShot__bottleShot--1RUr4.cleanWineCard__bottleShot--2BzIZ.bottleShot__small--2ra9k\"]\""
     ]
    }
   ],
   "source": [
    "xpath = 'div[@class=\"bottleShot__deferred-type1--2juLX.bottleShot__bottleShot--1RUr4.cleanWineCard__bottleShot--2BzIZ.bottleShot__small--2ra9k\"]'\n",
    "\n",
    "# winery_name = []\n",
    "\n",
    "# desired_link = browser.find_by_css('a.data-cartitemsource=direct-explore')[\"href\"]\n",
    "# print(desired_link)\n",
    "name = []\n",
    "for x in range (3):\n",
    "    results = browser.find_by_xpath(xpath)\n",
    "    link = results[x]\n",
    "    link.click()\n",
    "#     winery = browser.find_by_css('a.winery').text\n",
    "#     winery_name.append(winery)\n",
    "#     browser.back()\n",
    "    browser.visit(vivino_url)\n",
    "    \n",
    "# print(winery_name)"
   ]
  },
  {
   "cell_type": "code",
   "execution_count": 22,
   "metadata": {},
   "outputs": [],
   "source": [
    "browser.visit(vivino_url)\n",
    "html = browser.html\n",
    "soup = BeautifulSoup(html, 'html.parser')"
   ]
  },
  {
   "cell_type": "code",
   "execution_count": 30,
   "metadata": {},
   "outputs": [],
   "source": [
    "new = soup.find_all('div', class_='bottleShot__deferred-type1--2juLX bottleShot__bottleShot--1RUr4 cleanWineCard__bottleShot--2BzIZ bottleShot__small--2ra9k')"
   ]
  },
  {
   "cell_type": "code",
   "execution_count": 36,
   "metadata": {},
   "outputs": [
    {
     "data": {
      "text/plain": [
       "[<div aria-label=\"Wine image\" class=\"bottleShot__deferred-type1--2juLX bottleShot__bottleShot--1RUr4 cleanWineCard__bottleShot--2BzIZ bottleShot__small--2ra9k\" role=\"img\"></div>,\n",
       " <div aria-label=\"Wine image\" class=\"bottleShot__deferred-type1--2juLX bottleShot__bottleShot--1RUr4 cleanWineCard__bottleShot--2BzIZ bottleShot__small--2ra9k\" role=\"img\"></div>,\n",
       " <div aria-label=\"Wine image\" class=\"bottleShot__deferred-type1--2juLX bottleShot__bottleShot--1RUr4 cleanWineCard__bottleShot--2BzIZ bottleShot__small--2ra9k\" role=\"img\"></div>,\n",
       " <div aria-label=\"Wine image\" class=\"bottleShot__deferred-type1--2juLX bottleShot__bottleShot--1RUr4 cleanWineCard__bottleShot--2BzIZ bottleShot__small--2ra9k\" role=\"img\"></div>,\n",
       " <div aria-label=\"Wine image\" class=\"bottleShot__deferred-type1--2juLX bottleShot__bottleShot--1RUr4 cleanWineCard__bottleShot--2BzIZ bottleShot__small--2ra9k\" role=\"img\"></div>,\n",
       " <div aria-label=\"Wine image\" class=\"bottleShot__deferred-type1--2juLX bottleShot__bottleShot--1RUr4 cleanWineCard__bottleShot--2BzIZ bottleShot__small--2ra9k\" role=\"img\"></div>,\n",
       " <div aria-label=\"Wine image\" class=\"bottleShot__deferred-type1--2juLX bottleShot__bottleShot--1RUr4 cleanWineCard__bottleShot--2BzIZ bottleShot__small--2ra9k\" role=\"img\"></div>,\n",
       " <div aria-label=\"Wine image\" class=\"bottleShot__deferred-type1--2juLX bottleShot__bottleShot--1RUr4 cleanWineCard__bottleShot--2BzIZ bottleShot__small--2ra9k\" role=\"img\"></div>,\n",
       " <div aria-label=\"Wine image\" class=\"bottleShot__deferred-type1--2juLX bottleShot__bottleShot--1RUr4 cleanWineCard__bottleShot--2BzIZ bottleShot__small--2ra9k\" role=\"img\"></div>,\n",
       " <div aria-label=\"Wine image\" class=\"bottleShot__deferred-type1--2juLX bottleShot__bottleShot--1RUr4 cleanWineCard__bottleShot--2BzIZ bottleShot__small--2ra9k\" role=\"img\"></div>,\n",
       " <div aria-label=\"Wine image\" class=\"bottleShot__deferred-type1--2juLX bottleShot__bottleShot--1RUr4 cleanWineCard__bottleShot--2BzIZ bottleShot__small--2ra9k\" role=\"img\"></div>,\n",
       " <div aria-label=\"Wine image\" class=\"bottleShot__deferred-type1--2juLX bottleShot__bottleShot--1RUr4 cleanWineCard__bottleShot--2BzIZ bottleShot__small--2ra9k\" role=\"img\"></div>,\n",
       " <div aria-label=\"Wine image\" class=\"bottleShot__deferred-type1--2juLX bottleShot__bottleShot--1RUr4 cleanWineCard__bottleShot--2BzIZ bottleShot__small--2ra9k\" role=\"img\"></div>,\n",
       " <div aria-label=\"Wine image\" class=\"bottleShot__deferred-type1--2juLX bottleShot__bottleShot--1RUr4 cleanWineCard__bottleShot--2BzIZ bottleShot__small--2ra9k\" role=\"img\"></div>,\n",
       " <div aria-label=\"Wine image\" class=\"bottleShot__deferred-type1--2juLX bottleShot__bottleShot--1RUr4 cleanWineCard__bottleShot--2BzIZ bottleShot__small--2ra9k\" role=\"img\"></div>,\n",
       " <div aria-label=\"Wine image\" class=\"bottleShot__deferred-type1--2juLX bottleShot__bottleShot--1RUr4 cleanWineCard__bottleShot--2BzIZ bottleShot__small--2ra9k\" role=\"img\"></div>,\n",
       " <div aria-label=\"Wine image\" class=\"bottleShot__deferred-type1--2juLX bottleShot__bottleShot--1RUr4 cleanWineCard__bottleShot--2BzIZ bottleShot__small--2ra9k\" role=\"img\"></div>,\n",
       " <div aria-label=\"Wine image\" class=\"bottleShot__deferred-type1--2juLX bottleShot__bottleShot--1RUr4 cleanWineCard__bottleShot--2BzIZ bottleShot__small--2ra9k\" role=\"img\"></div>,\n",
       " <div aria-label=\"Wine image\" class=\"bottleShot__deferred-type1--2juLX bottleShot__bottleShot--1RUr4 cleanWineCard__bottleShot--2BzIZ bottleShot__small--2ra9k\" role=\"img\"></div>,\n",
       " <div aria-label=\"Wine image\" class=\"bottleShot__deferred-type1--2juLX bottleShot__bottleShot--1RUr4 cleanWineCard__bottleShot--2BzIZ bottleShot__small--2ra9k\" role=\"img\"></div>,\n",
       " <div aria-label=\"Wine image\" class=\"bottleShot__deferred-type1--2juLX bottleShot__bottleShot--1RUr4 cleanWineCard__bottleShot--2BzIZ bottleShot__small--2ra9k\" role=\"img\"></div>,\n",
       " <div aria-label=\"Wine image\" class=\"bottleShot__deferred-type1--2juLX bottleShot__bottleShot--1RUr4 cleanWineCard__bottleShot--2BzIZ bottleShot__small--2ra9k\" role=\"img\"></div>]"
      ]
     },
     "execution_count": 36,
     "metadata": {},
     "output_type": "execute_result"
    }
   ],
   "source": [
    "new"
   ]
  },
  {
   "cell_type": "code",
   "execution_count": null,
   "metadata": {},
   "outputs": [],
   "source": []
  }
 ],
 "metadata": {
  "kernelspec": {
   "display_name": "TensorFlow",
   "language": "python",
   "name": "tensorflow"
  },
  "language_info": {
   "codemirror_mode": {
    "name": "ipython",
    "version": 3
   },
   "file_extension": ".py",
   "mimetype": "text/x-python",
   "name": "python",
   "nbconvert_exporter": "python",
   "pygments_lexer": "ipython3",
   "version": "3.8.8"
  },
  "varInspector": {
   "cols": {
    "lenName": 16,
    "lenType": 16,
    "lenVar": 40
   },
   "kernels_config": {
    "python": {
     "delete_cmd_postfix": "",
     "delete_cmd_prefix": "del ",
     "library": "var_list.py",
     "varRefreshCmd": "print(var_dic_list())"
    },
    "r": {
     "delete_cmd_postfix": ") ",
     "delete_cmd_prefix": "rm(",
     "library": "var_list.r",
     "varRefreshCmd": "cat(var_dic_list()) "
    }
   },
   "types_to_exclude": [
    "module",
    "function",
    "builtin_function_or_method",
    "instance",
    "_Feature"
   ],
   "window_display": false
  }
 },
 "nbformat": 4,
 "nbformat_minor": 2
}
